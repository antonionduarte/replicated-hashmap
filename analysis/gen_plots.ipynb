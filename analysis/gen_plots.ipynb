{
 "cells": [
  {
   "cell_type": "markdown",
   "source": [
    "## Parse"
   ],
   "metadata": {
    "collapsed": false
   }
  },
  {
   "cell_type": "code",
   "execution_count": 21,
   "outputs": [],
   "source": [
    "from dataclasses import dataclass\n",
    "import re\n",
    "import os\n",
    "\n",
    "EXPERIMENTS_FOLDER = \"experiments/\"\n",
    "os.makedirs(EXPERIMENTS_FOLDER, exist_ok=True)\n",
    "\n",
    "@dataclass\n",
    "class SingleExperiment:\n",
    "    number_clients: int\n",
    "    number_replicas: int\n",
    "    payload: int\n",
    "    percentage_writes: int\n",
    "    percentage_reads: int\n",
    "\n",
    "@dataclass\n",
    "class Results:\n",
    "    throughput: float\n",
    "    read_latency_ms: float\n",
    "    write_latency_ms: float\n",
    "    overall_latency_ms: float\n",
    "\n",
    "\n",
    "\n",
    "def set_num_from_dir(exp_dir: str) -> int:\n",
    "    return int(re.findall(r\"\\d+\", exp_dir)[0])\n",
    "\n",
    "def exp_from_log(log_file: str) -> SingleExperiment:\n",
    "    result = re.search(r\"(\\d+)C_(\\d+)R_(\\d+)B_(\\d+)_(\\d+)\", log_file)\n",
    "    return SingleExperiment(int(result.group(1)),\n",
    "                            int(result.group(2)),\n",
    "                            int(result.group(3)),\n",
    "                            int(result.group(4)),\n",
    "                            int(result.group(5)))\n",
    "\n",
    "\n",
    "def results_from_log(file_path: str) -> Results:\n",
    "    read_latency_ms = None\n",
    "    write_latency_ms = None\n",
    "    throughput = None\n",
    "    for line in open(file_path).readlines():\n",
    "        if (\"[OVERALL], Throughput(ops/sec), \" in line):\n",
    "            throughput = float(re.findall(r\"\\d+\\.\\d+\", line)[0])\n",
    "        elif (\"[READ], AverageLatency(us), \" in line):\n",
    "            read_latency_ms = float(re.findall(r\"\\d+\\.\\d+\", line)[0]) / 1000\n",
    "        elif (\"[UPDATE], AverageLatency(us), \" in line):\n",
    "            write_latency_ms = float(re.findall(r\"\\d+\\.\\d+\", line)[0]) / 1000\n",
    "        elif (\"Op Timed out\" in line):\n",
    "            return None\n",
    "\n",
    "    print(log_file)\n",
    "    assert read_latency_ms is not None\n",
    "    assert write_latency_ms is not None\n",
    "    assert throughput is not None\n",
    "\n",
    "    overall_latency_ms = (read_latency_ms + write_latency_ms) / 2\n",
    "    return Results(throughput, read_latency_ms, write_latency_ms, overall_latency_ms)\n",
    "\n",
    "\n"
   ],
   "metadata": {
    "collapsed": false
   }
  },
  {
   "cell_type": "code",
   "execution_count": 22,
   "outputs": [
    {
     "name": "stdout",
     "output_type": "stream",
     "text": [
      "10C_3R_1024B_50_50.log\n",
      "10C_4R_1024B_50_50.log\n",
      "10C_5R_1024B_50_50.log\n",
      "10C_6R_1024B_50_50.log\n",
      "15C_3R_1024B_50_50.log\n",
      "15C_4R_1024B_50_50.log\n",
      "15C_5R_1024B_50_50.log\n",
      "15C_6R_1024B_50_50.log\n",
      "20C_3R_1024B_50_50.log\n",
      "20C_4R_1024B_50_50.log\n",
      "20C_5R_1024B_50_50.log\n",
      "20C_6R_1024B_50_50.log\n",
      "25C_3R_1024B_50_50.log\n",
      "25C_4R_1024B_50_50.log\n",
      "25C_5R_1024B_50_50.log\n",
      "25C_6R_1024B_50_50.log\n",
      "30C_3R_1024B_50_50.log\n",
      "30C_4R_1024B_50_50.log\n",
      "30C_5R_1024B_50_50.log\n",
      "5C_3R_1024B_50_50.log\n",
      "5C_4R_1024B_50_50.log\n",
      "5C_5R_1024B_50_50.log\n",
      "5C_6R_1024B_50_50.log\n"
     ]
    }
   ],
   "source": [
    "import os\n",
    "from collections import defaultdict as dd\n",
    "\n",
    "exps_per_set = dd(lambda: [])\n",
    "\n",
    "for exp_dir in os.listdir(EXPERIMENTS_FOLDER):\n",
    "    set_num = set_num_from_dir(exp_dir)\n",
    "    for log_file in os.listdir(f\"{EXPERIMENTS_FOLDER}{exp_dir}/\"):\n",
    "        exp = exp_from_log(log_file)\n",
    "        results = results_from_log(f\"{EXPERIMENTS_FOLDER}{exp_dir}/{log_file}\")\n",
    "        if results is None:\n",
    "            continue\n",
    "        exps_per_set[set_num].append((exp, results))\n"
   ],
   "metadata": {
    "collapsed": false
   }
  },
  {
   "cell_type": "markdown",
   "source": [
    "### Write to JSON"
   ],
   "metadata": {
    "collapsed": false
   }
  },
  {
   "cell_type": "code",
   "execution_count": 23,
   "outputs": [],
   "source": [
    "import json\n",
    "\n",
    "#TODO lame and unnecessary\n"
   ],
   "metadata": {
    "collapsed": false
   }
  },
  {
   "cell_type": "markdown",
   "source": [
    "## Plot"
   ],
   "metadata": {
    "collapsed": false
   }
  },
  {
   "cell_type": "code",
   "execution_count": 24,
   "outputs": [],
   "source": [
    "import matplotlib.pyplot as plt\n",
    "\n",
    "GRAPHS_FOLDER = \"graphs/\"\n",
    "os.makedirs(GRAPHS_FOLDER, exist_ok=True)\n",
    "\n",
    "@dataclass\n",
    "class Line:\n",
    "    label: str\n",
    "    throughput_axis: list[float]\n",
    "    latency_axis: list[float]\n",
    "\n",
    "\n",
    "def gen_throughput_latency_graph(num_set: int, lines: list[Line]):\n",
    "    for line in lines:\n",
    "        plt.plot(line.throughput_axis, line.latency_axis, marker=\"*\", label=line.label)\n",
    "    plt.xlabel(\"Throughput (ops/sec)\")\n",
    "    plt.ylabel(\"Average Latency (ms)\")\n",
    "    plt.title(\"Throughput-Latency Plot\")\n",
    "\n",
    "    plt.tight_layout()\n",
    "    plt.legend()\n",
    "\n",
    "    plt.savefig(f\"{GRAPHS_FOLDER}exp{num_set}.pdf\")\n",
    "    #plt.show()\n",
    "    plt.clf()"
   ],
   "metadata": {
    "collapsed": false
   }
  },
  {
   "cell_type": "code",
   "execution_count": 25,
   "outputs": [
    {
     "data": {
      "text/plain": "<Figure size 432x288 with 0 Axes>"
     },
     "metadata": {},
     "output_type": "display_data"
    }
   ],
   "source": [
    "for num_set, lst_exps in exps_per_set.items():\n",
    "    lines = dd(lambda: Line(\"\", [], []))\n",
    "    for exp, res in sorted(lst_exps, key=lambda x: (x[0].number_clients, x[0].number_replicas)):\n",
    "        lines[exp.number_replicas].label = f\"{exp.number_replicas} replicas\"\n",
    "        lines[exp.number_replicas].throughput_axis.append(res.throughput)\n",
    "        lines[exp.number_replicas].latency_axis.append(res.overall_latency_ms)\n",
    "\n",
    "    gen_throughput_latency_graph(num_set, lines.values())"
   ],
   "metadata": {
    "collapsed": false
   }
  },
  {
   "cell_type": "code",
   "execution_count": 25,
   "outputs": [],
   "source": [],
   "metadata": {
    "collapsed": false
   }
  }
 ],
 "metadata": {
  "kernelspec": {
   "display_name": "Python 3",
   "language": "python",
   "name": "python3"
  },
  "language_info": {
   "codemirror_mode": {
    "name": "ipython",
    "version": 2
   },
   "file_extension": ".py",
   "mimetype": "text/x-python",
   "name": "python",
   "nbconvert_exporter": "python",
   "pygments_lexer": "ipython2",
   "version": "2.7.6"
  }
 },
 "nbformat": 4,
 "nbformat_minor": 0
}

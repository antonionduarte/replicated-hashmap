{
 "cells": [
  {
   "cell_type": "markdown",
   "source": [
    "## Parse"
   ],
   "metadata": {
    "collapsed": false
   }
  },
  {
   "cell_type": "code",
   "execution_count": 33,
   "outputs": [],
   "source": [
    "from dataclasses import dataclass\n",
    "import re\n",
    "import json\n",
    "\n",
    "RESULTS_FOLDER = \"results/\"\n",
    "\n",
    "@dataclass\n",
    "class SingleExperiment:\n",
    "    protocol: str\n",
    "    number_clients: int\n",
    "    number_replicas: int\n",
    "    payload: int\n",
    "\n",
    "@dataclass\n",
    "class Results:\n",
    "    throughput: float\n",
    "    read_latency_ms: float\n",
    "    write_latency_ms: float\n",
    "    overall_latency_ms: float\n",
    "\n",
    "\n",
    "def protocol_name(paxos_variant: str) -> str:\n",
    "    if paxos_variant == \"single\":\n",
    "        return \"Paxos\"\n",
    "    elif paxos_variant == \"multi\":\n",
    "        return \"Multi-Paxos\"\n",
    "    else:\n",
    "        return paxos_variant\n",
    "\n",
    "def process_results_file(exp_file: str) -> (SingleExperiment, Results):\n",
    "    with open(f\"{RESULTS_FOLDER}{exp_file}\") as json_file:\n",
    "        data = json.load(json_file)\n",
    "        exp = SingleExperiment(protocol_name(data[\"config\"][\"paxos_variant\"]),\n",
    "                               data[\"config\"][\"clients\"],\n",
    "                               data[\"config\"][\"sm_replicas\"],\n",
    "                               data[\"config\"][\"payload\"])\n",
    "\n",
    "        results = results_from_output(data[\"outputs\"][0])\n",
    "        return exp, results\n",
    "\n",
    "\n",
    "def results_from_output(output: str) -> Results:\n",
    "    read_latency_ms = None\n",
    "    write_latency_ms = None\n",
    "    throughput = None\n",
    "    lines = output.split(\"\\n\")\n",
    "    for line in lines:\n",
    "        if \"[OVERALL], Throughput(ops/sec), \" in line:\n",
    "            throughput = float(re.findall(r\"\\d+\\.\\d+\", line)[0])\n",
    "        elif \"[READ], AverageLatency(us), \" in line:\n",
    "            read_latency_ms = float(re.findall(r\"\\d+\\.\\d+\", line)[0]) / 1000\n",
    "        elif \"[UPDATE], AverageLatency(us), \" in line:\n",
    "            write_latency_ms = float(re.findall(r\"\\d+\\.\\d+\", line)[0]) / 1000\n",
    "        elif \"Op Timed out\" in line:\n",
    "            return None\n",
    "\n",
    "    assert read_latency_ms is not None\n",
    "    assert write_latency_ms is not None\n",
    "    assert throughput is not None\n",
    "\n",
    "    overall_latency_ms = (read_latency_ms + write_latency_ms) / 2\n",
    "    return Results(throughput, read_latency_ms, write_latency_ms, overall_latency_ms)\n",
    "\n",
    "\n"
   ],
   "metadata": {
    "collapsed": false
   }
  },
  {
   "cell_type": "code",
   "execution_count": 34,
   "outputs": [
    {
     "name": "stdout",
     "output_type": "stream",
     "text": [
      "231\n"
     ]
    }
   ],
   "source": [
    "import os\n",
    "\n",
    "exp_results = []\n",
    "\n",
    "for result_file in os.listdir(RESULTS_FOLDER):\n",
    "    exp, results = process_results_file(result_file)\n",
    "    if results is None:\n",
    "        print(\"Exps that timed-out:\")\n",
    "        print(exp)\n",
    "        continue\n",
    "    exp_results.append((exp, results))\n",
    "print(len(exp_results))\n"
   ],
   "metadata": {
    "collapsed": false
   }
  },
  {
   "cell_type": "markdown",
   "source": [
    "## Plot"
   ],
   "metadata": {
    "collapsed": false
   }
  },
  {
   "cell_type": "code",
   "execution_count": 35,
   "outputs": [],
   "source": [
    "import matplotlib.pyplot as plt\n",
    "\n",
    "GRAPHS_FOLDER = \"graphs/\"\n",
    "os.makedirs(GRAPHS_FOLDER, exist_ok=True)\n",
    "\n",
    "@dataclass\n",
    "class Line:\n",
    "    label: str\n",
    "    throughput_axis: list[float]\n",
    "    latency_axis: list[float]\n",
    "\n",
    "\n",
    "def group_results() -> dict[tuple[int, int], list[SingleExperiment, Results]]:\n",
    "    configs = set(map(lambda x: (x[0].number_replicas, x[0].payload), exp_results))\n",
    "    return {config: sorted([(exp, results) for (exp, results) in exp_results\n",
    "                     if (exp.number_replicas, exp.payload) == config], key=lambda z: z[0].number_clients)\n",
    "                     for config in configs}\n",
    "\n",
    "\n",
    "def gen_throughput_latency_graph(config: tuple[int, int], lines: list[Line]):\n",
    "    for line in lines:\n",
    "        plt.plot(line.throughput_axis, line.latency_axis, marker=\"*\", label=line.label)\n",
    "    plt.xlabel(\"Throughput (1000 ops/sec)\")\n",
    "    plt.ylabel(\"Average Latency (ms)\")\n",
    "    plt.title(f\"replicas={config[0]}, payload={config[1]}B\")\n",
    "\n",
    "    plt.tight_layout()\n",
    "    plt.legend()\n",
    "\n",
    "    plt.savefig(f\"{GRAPHS_FOLDER}{config[0]}R_{config[1]}B.pdf\")\n",
    "    #plt.show()\n",
    "    plt.clf()"
   ],
   "metadata": {
    "collapsed": false
   }
  },
  {
   "cell_type": "code",
   "execution_count": 36,
   "outputs": [
    {
     "data": {
      "text/plain": "<Figure size 432x288 with 0 Axes>"
     },
     "metadata": {},
     "output_type": "display_data"
    }
   ],
   "source": [
    "from collections import defaultdict as dd\n",
    "\n",
    "\n",
    "for config, lst_exp_results in group_results().items():\n",
    "    lines = dd(lambda: Line(\"\", [], []))\n",
    "    for exp, res in lst_exp_results:\n",
    "        lines[exp.protocol].label = exp.protocol\n",
    "        lines[exp.protocol].throughput_axis.append(res.throughput / 1000)\n",
    "        lines[exp.protocol].latency_axis.append(res.overall_latency_ms)\n",
    "\n",
    "    gen_throughput_latency_graph(config, lines.values())"
   ],
   "metadata": {
    "collapsed": false
   }
  },
  {
   "cell_type": "code",
   "execution_count": 36,
   "outputs": [],
   "source": [],
   "metadata": {
    "collapsed": false
   }
  }
 ],
 "metadata": {
  "kernelspec": {
   "display_name": "Python 3",
   "language": "python",
   "name": "python3"
  },
  "language_info": {
   "codemirror_mode": {
    "name": "ipython",
    "version": 2
   },
   "file_extension": ".py",
   "mimetype": "text/x-python",
   "name": "python",
   "nbconvert_exporter": "python",
   "pygments_lexer": "ipython2",
   "version": "2.7.6"
  }
 },
 "nbformat": 4,
 "nbformat_minor": 0
}
